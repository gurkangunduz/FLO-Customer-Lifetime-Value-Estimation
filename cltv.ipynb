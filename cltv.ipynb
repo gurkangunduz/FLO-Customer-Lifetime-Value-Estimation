{
 "cells": [
  {
   "cell_type": "markdown",
   "metadata": {},
   "source": [
    "# __Customer Lifetime Value Estimation with BG-NBD and Gamma-Gamma__"
   ]
  },
  {
   "cell_type": "markdown",
   "metadata": {},
   "source": [
    "## __Business Problem__"
   ]
  },
  {
   "cell_type": "markdown",
   "metadata": {},
   "source": [
    "FLO company wants to determine roadmap for  sales and marketing activities. \n",
    "In order to make a medium-long-term plan company needs to estimate the potential value of the customers. "
   ]
  },
  {
   "cell_type": "markdown",
   "metadata": {},
   "source": [
    "## __Story of the Dataset__"
   ]
  },
  {
   "cell_type": "markdown",
   "metadata": {},
   "source": [
    "The dataset consists of the information obtained from the past shopping behavior of customers who made their last purchases from Flo as OmniChannel (both online and offline shopper) between 2020 and 2021.\n",
    "\n",
    "__master_id :__ Unique customer number\n",
    "\n",
    "__order_channel :__ Which channel of the shopping platform is used (Android, ios, Desktop, Mobile)\n",
    "\n",
    "__last_order_channel :__ The channel where the most recent purchase was made\n",
    "\n",
    "__first_order_date :__ Date of the customer's first purchase\n",
    "\n",
    "__last_order_date :__ Customer's last purchase date\n",
    "\n",
    "__last_order_date_online :__ The date of the last purchase made by the customer on the online platform\n",
    "\n",
    "__last_order_date_offline :__ The date of the last purchase made by the customer on the offline platform\n",
    "\n",
    "__order_num_total_ever_online :__ The total number of purchases made by the customer on the online platform\n",
    "\n",
    "__order_num_total_ever_offline :__ Total number of purchases made by the customer offline\n",
    "\n",
    "__customer_value_total_ever_offline :__ Total fee paid by the customer for offline purchases\n",
    "\n",
    "__customer_value_total_ever_online :__ The total fee paid by the customer for their online shopping\n",
    "\n",
    "__interested_in_categories_12 :__ List of categories the customer has shopped in the last 12 months"
   ]
  },
  {
   "cell_type": "markdown",
   "metadata": {},
   "source": [
    "Importing necessary libraries"
   ]
  },
  {
   "cell_type": "code",
   "execution_count": 1,
   "metadata": {},
   "outputs": [],
   "source": [
    "import datetime as dt\n",
    "import pandas as pd\n",
    "import seaborn as sns\n",
    "from lifetimes import BetaGeoFitter\n",
    "from lifetimes import GammaGammaFitter\n",
    "import matplotlib.pyplot as plt"
   ]
  },
  {
   "cell_type": "code",
   "execution_count": 2,
   "metadata": {},
   "outputs": [],
   "source": [
    "pd.options.display.width= None\n",
    "pd.options.display.max_columns= None\n",
    "pd.set_option('display.max_colwidth', None)\n",
    "pd.set_option('display.max_columns', None)\n",
    "pd.set_option('display.float_format', lambda x: '%.3f' % x)\n",
    "pd.set_option(\"expand_frame_repr\", False)"
   ]
  },
  {
   "cell_type": "markdown",
   "metadata": {},
   "source": [
    "Importing the Data"
   ]
  },
  {
   "cell_type": "code",
   "execution_count": 11,
   "metadata": {},
   "outputs": [
    {
     "data": {
      "text/html": [
       "<div>\n",
       "<style scoped>\n",
       "    .dataframe tbody tr th:only-of-type {\n",
       "        vertical-align: middle;\n",
       "    }\n",
       "\n",
       "    .dataframe tbody tr th {\n",
       "        vertical-align: top;\n",
       "    }\n",
       "\n",
       "    .dataframe thead th {\n",
       "        text-align: right;\n",
       "    }\n",
       "</style>\n",
       "<table border=\"1\" class=\"dataframe\">\n",
       "  <thead>\n",
       "    <tr style=\"text-align: right;\">\n",
       "      <th></th>\n",
       "      <th>master_id</th>\n",
       "      <th>order_channel</th>\n",
       "      <th>last_order_channel</th>\n",
       "      <th>first_order_date</th>\n",
       "      <th>last_order_date</th>\n",
       "      <th>last_order_date_online</th>\n",
       "      <th>last_order_date_offline</th>\n",
       "      <th>order_num_total_ever_online</th>\n",
       "      <th>order_num_total_ever_offline</th>\n",
       "      <th>customer_value_total_ever_offline</th>\n",
       "      <th>customer_value_total_ever_online</th>\n",
       "      <th>interested_in_categories_12</th>\n",
       "    </tr>\n",
       "  </thead>\n",
       "  <tbody>\n",
       "    <tr>\n",
       "      <th>0</th>\n",
       "      <td>cc294636-19f0-11eb-8d74-000d3a38a36f</td>\n",
       "      <td>Android App</td>\n",
       "      <td>Offline</td>\n",
       "      <td>2020-10-30</td>\n",
       "      <td>2021-02-26</td>\n",
       "      <td>2021-02-21</td>\n",
       "      <td>2021-02-26</td>\n",
       "      <td>4.000</td>\n",
       "      <td>1.000</td>\n",
       "      <td>139.990</td>\n",
       "      <td>799.380</td>\n",
       "      <td>[KADIN]</td>\n",
       "    </tr>\n",
       "    <tr>\n",
       "      <th>1</th>\n",
       "      <td>f431bd5a-ab7b-11e9-a2fc-000d3a38a36f</td>\n",
       "      <td>Android App</td>\n",
       "      <td>Mobile</td>\n",
       "      <td>2017-02-08</td>\n",
       "      <td>2021-02-16</td>\n",
       "      <td>2021-02-16</td>\n",
       "      <td>2020-01-10</td>\n",
       "      <td>19.000</td>\n",
       "      <td>2.000</td>\n",
       "      <td>159.970</td>\n",
       "      <td>1853.580</td>\n",
       "      <td>[ERKEK, COCUK, KADIN, AKTIFSPOR]</td>\n",
       "    </tr>\n",
       "    <tr>\n",
       "      <th>2</th>\n",
       "      <td>69b69676-1a40-11ea-941b-000d3a38a36f</td>\n",
       "      <td>Android App</td>\n",
       "      <td>Android App</td>\n",
       "      <td>2019-11-27</td>\n",
       "      <td>2020-11-27</td>\n",
       "      <td>2020-11-27</td>\n",
       "      <td>2019-12-01</td>\n",
       "      <td>3.000</td>\n",
       "      <td>2.000</td>\n",
       "      <td>189.970</td>\n",
       "      <td>395.350</td>\n",
       "      <td>[ERKEK, KADIN]</td>\n",
       "    </tr>\n",
       "    <tr>\n",
       "      <th>3</th>\n",
       "      <td>1854e56c-491f-11eb-806e-000d3a38a36f</td>\n",
       "      <td>Android App</td>\n",
       "      <td>Android App</td>\n",
       "      <td>2021-01-06</td>\n",
       "      <td>2021-01-17</td>\n",
       "      <td>2021-01-17</td>\n",
       "      <td>2021-01-06</td>\n",
       "      <td>1.000</td>\n",
       "      <td>1.000</td>\n",
       "      <td>39.990</td>\n",
       "      <td>81.980</td>\n",
       "      <td>[AKTIFCOCUK, COCUK]</td>\n",
       "    </tr>\n",
       "    <tr>\n",
       "      <th>4</th>\n",
       "      <td>d6ea1074-f1f5-11e9-9346-000d3a38a36f</td>\n",
       "      <td>Desktop</td>\n",
       "      <td>Desktop</td>\n",
       "      <td>2019-08-03</td>\n",
       "      <td>2021-03-07</td>\n",
       "      <td>2021-03-07</td>\n",
       "      <td>2019-08-03</td>\n",
       "      <td>1.000</td>\n",
       "      <td>1.000</td>\n",
       "      <td>49.990</td>\n",
       "      <td>159.990</td>\n",
       "      <td>[AKTIFSPOR]</td>\n",
       "    </tr>\n",
       "  </tbody>\n",
       "</table>\n",
       "</div>"
      ],
      "text/plain": [
       "                              master_id order_channel last_order_channel first_order_date last_order_date last_order_date_online last_order_date_offline  order_num_total_ever_online  order_num_total_ever_offline  customer_value_total_ever_offline  customer_value_total_ever_online       interested_in_categories_12\n",
       "0  cc294636-19f0-11eb-8d74-000d3a38a36f   Android App            Offline       2020-10-30      2021-02-26             2021-02-21              2021-02-26                        4.000                         1.000                            139.990                           799.380                           [KADIN]\n",
       "1  f431bd5a-ab7b-11e9-a2fc-000d3a38a36f   Android App             Mobile       2017-02-08      2021-02-16             2021-02-16              2020-01-10                       19.000                         2.000                            159.970                          1853.580  [ERKEK, COCUK, KADIN, AKTIFSPOR]\n",
       "2  69b69676-1a40-11ea-941b-000d3a38a36f   Android App        Android App       2019-11-27      2020-11-27             2020-11-27              2019-12-01                        3.000                         2.000                            189.970                           395.350                    [ERKEK, KADIN]\n",
       "3  1854e56c-491f-11eb-806e-000d3a38a36f   Android App        Android App       2021-01-06      2021-01-17             2021-01-17              2021-01-06                        1.000                         1.000                             39.990                            81.980               [AKTIFCOCUK, COCUK]\n",
       "4  d6ea1074-f1f5-11e9-9346-000d3a38a36f       Desktop            Desktop       2019-08-03      2021-03-07             2021-03-07              2019-08-03                        1.000                         1.000                             49.990                           159.990                       [AKTIFSPOR]"
      ]
     },
     "execution_count": 11,
     "metadata": {},
     "output_type": "execute_result"
    }
   ],
   "source": [
    "df_=pd.read_csv(\"data_20k.csv\")\n",
    "df = df_.copy()\n",
    "df.head()"
   ]
  },
  {
   "cell_type": "markdown",
   "metadata": {},
   "source": [
    "Descriptive Statistics"
   ]
  },
  {
   "cell_type": "code",
   "execution_count": 12,
   "metadata": {},
   "outputs": [
    {
     "name": "stdout",
     "output_type": "stream",
     "text": [
      "                                      count    mean     std    min     25%     50%     75%       max\n",
      "order_num_total_ever_online       19945.000   3.111   4.226  1.000   1.000   2.000   4.000   200.000\n",
      "order_num_total_ever_offline      19945.000   1.914   2.063  1.000   1.000   1.000   2.000   109.000\n",
      "customer_value_total_ever_offline 19945.000 253.923 301.533 10.000  99.990 179.980 319.970 18119.140\n",
      "customer_value_total_ever_online  19945.000 497.322 832.602 12.990 149.980 286.460 578.440 45220.130\n",
      "#################### Null Values ####################\n",
      "master_id                            0\n",
      "order_channel                        0\n",
      "last_order_channel                   0\n",
      "first_order_date                     0\n",
      "last_order_date                      0\n",
      "last_order_date_online               0\n",
      "last_order_date_offline              0\n",
      "order_num_total_ever_online          0\n",
      "order_num_total_ever_offline         0\n",
      "customer_value_total_ever_offline    0\n",
      "customer_value_total_ever_online     0\n",
      "interested_in_categories_12          0\n",
      "dtype: int64\n",
      "#################### Data Types ####################\n",
      "<class 'pandas.core.frame.DataFrame'>\n",
      "RangeIndex: 19945 entries, 0 to 19944\n",
      "Data columns (total 12 columns):\n",
      " #   Column                             Non-Null Count  Dtype  \n",
      "---  ------                             --------------  -----  \n",
      " 0   master_id                          19945 non-null  object \n",
      " 1   order_channel                      19945 non-null  object \n",
      " 2   last_order_channel                 19945 non-null  object \n",
      " 3   first_order_date                   19945 non-null  object \n",
      " 4   last_order_date                    19945 non-null  object \n",
      " 5   last_order_date_online             19945 non-null  object \n",
      " 6   last_order_date_offline            19945 non-null  object \n",
      " 7   order_num_total_ever_online        19945 non-null  float64\n",
      " 8   order_num_total_ever_offline       19945 non-null  float64\n",
      " 9   customer_value_total_ever_offline  19945 non-null  float64\n",
      " 10  customer_value_total_ever_online   19945 non-null  float64\n",
      " 11  interested_in_categories_12        19945 non-null  object \n",
      "dtypes: float64(4), object(8)\n",
      "memory usage: 1.8+ MB\n"
     ]
    }
   ],
   "source": [
    "print(df.describe().T)\n",
    "print(20*\"#\"+\" Null Values \"+20*\"#\")\n",
    "print(df.isnull().sum())\n",
    "print(20*\"#\"+\" Data Types \"+20*\"#\")\n",
    "df.info()"
   ]
  },
  {
   "cell_type": "markdown",
   "metadata": {},
   "source": [
    "Function written to suppress outlier values,\n",
    "I chose the outlier values 0.01 and 0.99 in order not to spoil the naturalness of the dataset too much."
   ]
  },
  {
   "cell_type": "code",
   "execution_count": 13,
   "metadata": {},
   "outputs": [],
   "source": [
    "def replace_with_thresholds(dataframe, variable):\n",
    "    quartile1 = dataframe[variable].quantile(0.01)\n",
    "    quartile3 = dataframe[variable].quantile(0.99)\n",
    "    interquantile_range = quartile3 - quartile1\n",
    "    up_limit = quartile3 + 1.5 * interquantile_range\n",
    "    dataframe.loc[(dataframe[variable] > up_limit.round()), variable] = up_limit.round() "
   ]
  },
  {
   "cell_type": "markdown",
   "metadata": {},
   "source": [
    "Boxplot of the float variables."
   ]
  },
  {
   "cell_type": "code",
   "execution_count": 16,
   "metadata": {},
   "outputs": [
    {
     "data": {
      "image/png": "[encoded data removed]",
      "text/plain": [
       "<Figure size 640x480 with 1 Axes>"
      ]
     },
     "metadata": {},
     "output_type": "display_data"
    }
   ],
   "source": [
    "df.boxplot(column= [\"order_num_total_ever_online\",\"order_num_total_ever_offline\",\"customer_value_total_ever_offline\",\"customer_value_total_ever_online\"],\n",
    "                    rot=67);\n",
    "plt.show()"
   ]
  },
  {
   "cell_type": "code",
   "execution_count": 18,
   "metadata": {},
   "outputs": [],
   "source": [
    "replace_with_thresholds(df,\"order_num_total_ever_online\")\n",
    "replace_with_thresholds(df,\"order_num_total_ever_offline\")\n",
    "replace_with_thresholds(df,\"customer_value_total_ever_offline\")\n",
    "replace_with_thresholds(df,\"customer_value_total_ever_online\")"
   ]
  },
  {
   "cell_type": "code",
   "execution_count": 19,
   "metadata": {},
   "outputs": [
    {
     "data": {
      "image/png": "[encoded data removed]",
      "text/plain": [
       "<Figure size 640x480 with 1 Axes>"
      ]
     },
     "metadata": {},
     "output_type": "display_data"
    }
   ],
   "source": [
    "df.boxplot(column= [\"order_num_total_ever_online\",\"order_num_total_ever_offline\",\"customer_value_total_ever_offline\",\"customer_value_total_ever_online\"],\n",
    "                    rot=67);\n",
    "plt.show()"
   ]
  },
  {
   "cell_type": "code",
   "execution_count": 20,
   "metadata": {},
   "outputs": [
    {
     "data": {
      "text/html": [
       "<div>\n",
       "<style scoped>\n",
       "    .dataframe tbody tr th:only-of-type {\n",
       "        vertical-align: middle;\n",
       "    }\n",
       "\n",
       "    .dataframe tbody tr th {\n",
       "        vertical-align: top;\n",
       "    }\n",
       "\n",
       "    .dataframe thead th {\n",
       "        text-align: right;\n",
       "    }\n",
       "</style>\n",
       "<table border=\"1\" class=\"dataframe\">\n",
       "  <thead>\n",
       "    <tr style=\"text-align: right;\">\n",
       "      <th></th>\n",
       "      <th>count</th>\n",
       "      <th>mean</th>\n",
       "      <th>std</th>\n",
       "      <th>min</th>\n",
       "      <th>25%</th>\n",
       "      <th>50%</th>\n",
       "      <th>75%</th>\n",
       "      <th>max</th>\n",
       "    </tr>\n",
       "  </thead>\n",
       "  <tbody>\n",
       "    <tr>\n",
       "      <th>order_num_total_ever_online</th>\n",
       "      <td>19945.000</td>\n",
       "      <td>3.092</td>\n",
       "      <td>3.810</td>\n",
       "      <td>1.000</td>\n",
       "      <td>1.000</td>\n",
       "      <td>2.000</td>\n",
       "      <td>4.000</td>\n",
       "      <td>48.000</td>\n",
       "    </tr>\n",
       "    <tr>\n",
       "      <th>order_num_total_ever_offline</th>\n",
       "      <td>19945.000</td>\n",
       "      <td>1.886</td>\n",
       "      <td>1.435</td>\n",
       "      <td>1.000</td>\n",
       "      <td>1.000</td>\n",
       "      <td>1.000</td>\n",
       "      <td>2.000</td>\n",
       "      <td>16.000</td>\n",
       "    </tr>\n",
       "    <tr>\n",
       "      <th>customer_value_total_ever_offline</th>\n",
       "      <td>19945.000</td>\n",
       "      <td>251.921</td>\n",
       "      <td>251.024</td>\n",
       "      <td>10.000</td>\n",
       "      <td>99.990</td>\n",
       "      <td>179.980</td>\n",
       "      <td>319.970</td>\n",
       "      <td>3020.000</td>\n",
       "    </tr>\n",
       "    <tr>\n",
       "      <th>customer_value_total_ever_online</th>\n",
       "      <td>19945.000</td>\n",
       "      <td>489.706</td>\n",
       "      <td>632.610</td>\n",
       "      <td>12.990</td>\n",
       "      <td>149.980</td>\n",
       "      <td>286.460</td>\n",
       "      <td>578.440</td>\n",
       "      <td>7800.000</td>\n",
       "    </tr>\n",
       "  </tbody>\n",
       "</table>\n",
       "</div>"
      ],
      "text/plain": [
       "                                      count    mean     std    min     25%     50%     75%      max\n",
       "order_num_total_ever_online       19945.000   3.092   3.810  1.000   1.000   2.000   4.000   48.000\n",
       "order_num_total_ever_offline      19945.000   1.886   1.435  1.000   1.000   1.000   2.000   16.000\n",
       "customer_value_total_ever_offline 19945.000 251.921 251.024 10.000  99.990 179.980 319.970 3020.000\n",
       "customer_value_total_ever_online  19945.000 489.706 632.610 12.990 149.980 286.460 578.440 7800.000"
      ]
     },
     "execution_count": 20,
     "metadata": {},
     "output_type": "execute_result"
    }
   ],
   "source": [
    "df.describe().T"
   ]
  },
  {
   "cell_type": "markdown",
   "metadata": {},
   "source": [
    "Summing number of orders and payments."
   ]
  },
  {
   "cell_type": "code",
   "execution_count": 21,
   "metadata": {},
   "outputs": [],
   "source": [
    "df[\"total_order\"]=df[\"order_num_total_ever_online\"]+df.order_num_total_ever_offline\n",
    "df[\"monetary\"]=df.customer_value_total_ever_offline+df.customer_value_total_ever_online\n"
   ]
  },
  {
   "cell_type": "code",
   "execution_count": 22,
   "metadata": {},
   "outputs": [],
   "source": [
    "df.loc[:, df.columns.str.contains(\"date\")]=df.loc[:, df.columns.str.contains(\"date\")]\\\n",
    "                                             .apply(pd.to_datetime,format='%Y-%m-%d')\n",
    "df.last_order_date.max()\n",
    "#Timestamp('2021-05-30 00:00:00')\n",
    "#The date of the analysis was selected 2 days after the last_order_date.\n",
    "today_date=dt.datetime(2021,6,2)\n",
    "df[\"T\"]=(today_date-df.first_order_date).dt.days#customer's age\n",
    "df[\"recency\"]=(df.last_order_date-df.first_order_date).dt.days#period the customer is active"
   ]
  },
  {
   "cell_type": "code",
   "execution_count": 23,
   "metadata": {},
   "outputs": [
    {
     "data": {
      "text/html": [
       "<div>\n",
       "<style scoped>\n",
       "    .dataframe tbody tr th:only-of-type {\n",
       "        vertical-align: middle;\n",
       "    }\n",
       "\n",
       "    .dataframe tbody tr th {\n",
       "        vertical-align: top;\n",
       "    }\n",
       "\n",
       "    .dataframe thead th {\n",
       "        text-align: right;\n",
       "    }\n",
       "</style>\n",
       "<table border=\"1\" class=\"dataframe\">\n",
       "  <thead>\n",
       "    <tr style=\"text-align: right;\">\n",
       "      <th></th>\n",
       "      <th>customer_id</th>\n",
       "      <th>frequency</th>\n",
       "      <th>monetary</th>\n",
       "      <th>recency_cltv_weekly</th>\n",
       "      <th>T_weekly</th>\n",
       "      <th>monetary_cltv_avg</th>\n",
       "    </tr>\n",
       "  </thead>\n",
       "  <tbody>\n",
       "    <tr>\n",
       "      <th>0</th>\n",
       "      <td>cc294636-19f0-11eb-8d74-000d3a38a36f</td>\n",
       "      <td>5.000</td>\n",
       "      <td>939.370</td>\n",
       "      <td>17.000</td>\n",
       "      <td>30.714</td>\n",
       "      <td>187.874</td>\n",
       "    </tr>\n",
       "    <tr>\n",
       "      <th>1</th>\n",
       "      <td>f431bd5a-ab7b-11e9-a2fc-000d3a38a36f</td>\n",
       "      <td>21.000</td>\n",
       "      <td>2013.550</td>\n",
       "      <td>209.857</td>\n",
       "      <td>225.000</td>\n",
       "      <td>95.883</td>\n",
       "    </tr>\n",
       "    <tr>\n",
       "      <th>2</th>\n",
       "      <td>69b69676-1a40-11ea-941b-000d3a38a36f</td>\n",
       "      <td>5.000</td>\n",
       "      <td>585.320</td>\n",
       "      <td>52.286</td>\n",
       "      <td>79.000</td>\n",
       "      <td>117.064</td>\n",
       "    </tr>\n",
       "    <tr>\n",
       "      <th>3</th>\n",
       "      <td>1854e56c-491f-11eb-806e-000d3a38a36f</td>\n",
       "      <td>2.000</td>\n",
       "      <td>121.970</td>\n",
       "      <td>1.571</td>\n",
       "      <td>21.000</td>\n",
       "      <td>60.985</td>\n",
       "    </tr>\n",
       "    <tr>\n",
       "      <th>4</th>\n",
       "      <td>d6ea1074-f1f5-11e9-9346-000d3a38a36f</td>\n",
       "      <td>2.000</td>\n",
       "      <td>209.980</td>\n",
       "      <td>83.143</td>\n",
       "      <td>95.571</td>\n",
       "      <td>104.990</td>\n",
       "    </tr>\n",
       "  </tbody>\n",
       "</table>\n",
       "</div>"
      ],
      "text/plain": [
       "                            customer_id  frequency  monetary  recency_cltv_weekly  T_weekly  monetary_cltv_avg\n",
       "0  cc294636-19f0-11eb-8d74-000d3a38a36f      5.000   939.370               17.000    30.714            187.874\n",
       "1  f431bd5a-ab7b-11e9-a2fc-000d3a38a36f     21.000  2013.550              209.857   225.000             95.883\n",
       "2  69b69676-1a40-11ea-941b-000d3a38a36f      5.000   585.320               52.286    79.000            117.064\n",
       "3  1854e56c-491f-11eb-806e-000d3a38a36f      2.000   121.970                1.571    21.000             60.985\n",
       "4  d6ea1074-f1f5-11e9-9346-000d3a38a36f      2.000   209.980               83.143    95.571            104.990"
      ]
     },
     "execution_count": 23,
     "metadata": {},
     "output_type": "execute_result"
    }
   ],
   "source": [
    "cltv=df[[\"master_id\",\"recency\",\"T\",\"total_order\",\"monetary\"]]\n",
    "cltv.columns=[\"customer_id\",\"recency\",\"T\",\"frequency\",\"monetary\"]\n",
    "cltv[\"recency_cltv_weekly\"]=cltv.recency/7\n",
    "cltv[\"T_weekly\"]=cltv[\"T\"] / 7\n",
    "cltv[\"monetary_cltv_avg\"]=cltv.monetary/cltv.frequency\n",
    "cltv.drop(columns=[\"recency\",\"T\"],inplace=True)\n",
    "cltv.head()"
   ]
  },
  {
   "cell_type": "markdown",
   "metadata": {},
   "source": [
    "Fit the model"
   ]
  },
  {
   "cell_type": "code",
   "execution_count": 24,
   "metadata": {},
   "outputs": [
    {
     "data": {
      "text/plain": [
       "<lifetimes.BetaGeoFitter: fitted with 19945 subjects, a: 0.00, alpha: 76.40, b: 0.00, r: 3.67>"
      ]
     },
     "execution_count": 24,
     "metadata": {},
     "output_type": "execute_result"
    }
   ],
   "source": [
    "bgf = BetaGeoFitter(penalizer_coef=0.001)\n",
    "\n",
    "bgf.fit(cltv['frequency'],\n",
    "        cltv['recency_cltv_weekly'],\n",
    "        cltv['T_weekly'])"
   ]
  },
  {
   "cell_type": "markdown",
   "metadata": {},
   "source": [
    "Expected purchase amount from the customer in the 3 and 6 month periods"
   ]
  },
  {
   "cell_type": "code",
   "execution_count": 25,
   "metadata": {},
   "outputs": [],
   "source": [
    "cltv[\"exp_sales_3_month\"]=bgf.conditional_expected_number_of_purchases_up_to_time(4*3,\n",
    "                                                        cltv['frequency'],\n",
    "                                                        cltv['recency_cltv_weekly'],\n",
    "                                                        cltv['T_weekly'])\n",
    "                                                        "
   ]
  },
  {
   "cell_type": "code",
   "execution_count": 26,
   "metadata": {},
   "outputs": [
    {
     "data": {
      "text/html": [
       "<div>\n",
       "<style scoped>\n",
       "    .dataframe tbody tr th:only-of-type {\n",
       "        vertical-align: middle;\n",
       "    }\n",
       "\n",
       "    .dataframe tbody tr th {\n",
       "        vertical-align: top;\n",
       "    }\n",
       "\n",
       "    .dataframe thead th {\n",
       "        text-align: right;\n",
       "    }\n",
       "</style>\n",
       "<table border=\"1\" class=\"dataframe\">\n",
       "  <thead>\n",
       "    <tr style=\"text-align: right;\">\n",
       "      <th></th>\n",
       "      <th>customer_id</th>\n",
       "      <th>frequency</th>\n",
       "      <th>monetary</th>\n",
       "      <th>recency_cltv_weekly</th>\n",
       "      <th>T_weekly</th>\n",
       "      <th>monetary_cltv_avg</th>\n",
       "      <th>exp_sales_3_month</th>\n",
       "      <th>exp_sales_6_month</th>\n",
       "    </tr>\n",
       "  </thead>\n",
       "  <tbody>\n",
       "    <tr>\n",
       "      <th>0</th>\n",
       "      <td>cc294636-19f0-11eb-8d74-000d3a38a36f</td>\n",
       "      <td>5.000</td>\n",
       "      <td>939.370</td>\n",
       "      <td>17.000</td>\n",
       "      <td>30.714</td>\n",
       "      <td>187.874</td>\n",
       "      <td>0.971</td>\n",
       "      <td>1.942</td>\n",
       "    </tr>\n",
       "    <tr>\n",
       "      <th>1</th>\n",
       "      <td>f431bd5a-ab7b-11e9-a2fc-000d3a38a36f</td>\n",
       "      <td>21.000</td>\n",
       "      <td>2013.550</td>\n",
       "      <td>209.857</td>\n",
       "      <td>225.000</td>\n",
       "      <td>95.883</td>\n",
       "      <td>0.982</td>\n",
       "      <td>1.964</td>\n",
       "    </tr>\n",
       "    <tr>\n",
       "      <th>2</th>\n",
       "      <td>69b69676-1a40-11ea-941b-000d3a38a36f</td>\n",
       "      <td>5.000</td>\n",
       "      <td>585.320</td>\n",
       "      <td>52.286</td>\n",
       "      <td>79.000</td>\n",
       "      <td>117.064</td>\n",
       "      <td>0.669</td>\n",
       "      <td>1.339</td>\n",
       "    </tr>\n",
       "    <tr>\n",
       "      <th>3</th>\n",
       "      <td>1854e56c-491f-11eb-806e-000d3a38a36f</td>\n",
       "      <td>2.000</td>\n",
       "      <td>121.970</td>\n",
       "      <td>1.571</td>\n",
       "      <td>21.000</td>\n",
       "      <td>60.985</td>\n",
       "      <td>0.698</td>\n",
       "      <td>1.397</td>\n",
       "    </tr>\n",
       "    <tr>\n",
       "      <th>4</th>\n",
       "      <td>d6ea1074-f1f5-11e9-9346-000d3a38a36f</td>\n",
       "      <td>2.000</td>\n",
       "      <td>209.980</td>\n",
       "      <td>83.143</td>\n",
       "      <td>95.571</td>\n",
       "      <td>104.990</td>\n",
       "      <td>0.396</td>\n",
       "      <td>0.791</td>\n",
       "    </tr>\n",
       "  </tbody>\n",
       "</table>\n",
       "</div>"
      ],
      "text/plain": [
       "                            customer_id  frequency  monetary  recency_cltv_weekly  T_weekly  monetary_cltv_avg  exp_sales_3_month  exp_sales_6_month\n",
       "0  cc294636-19f0-11eb-8d74-000d3a38a36f      5.000   939.370               17.000    30.714            187.874              0.971              1.942\n",
       "1  f431bd5a-ab7b-11e9-a2fc-000d3a38a36f     21.000  2013.550              209.857   225.000             95.883              0.982              1.964\n",
       "2  69b69676-1a40-11ea-941b-000d3a38a36f      5.000   585.320               52.286    79.000            117.064              0.669              1.339\n",
       "3  1854e56c-491f-11eb-806e-000d3a38a36f      2.000   121.970                1.571    21.000             60.985              0.698              1.397\n",
       "4  d6ea1074-f1f5-11e9-9346-000d3a38a36f      2.000   209.980               83.143    95.571            104.990              0.396              0.791"
      ]
     },
     "execution_count": 26,
     "metadata": {},
     "output_type": "execute_result"
    }
   ],
   "source": [
    "cltv[\"exp_sales_6_month\"]=bgf.conditional_expected_number_of_purchases_up_to_time(4*6,\n",
    "                                                        cltv['frequency'],\n",
    "                                                        cltv['recency_cltv_weekly'],\n",
    "                                                        cltv['T_weekly'])\n",
    "cltv.head()"
   ]
  },
  {
   "cell_type": "markdown",
   "metadata": {},
   "source": [
    "Inspecting customers according to expected sales for 6 months.\n",
    "    When the first 5 customers are examined, it can be understood from the 2nd and 4th customers, for example, that the number of products purchased is not the only factor. At this point, the model also takes into account the age of the customers and the shopping periods they are active in, namely T and Recency values. For example, it is predicted by the model that the purchasing potential of the customers whose recency and T values are close to each other increase.\n"
   ]
  },
  {
   "cell_type": "code",
   "execution_count": 27,
   "metadata": {},
   "outputs": [
    {
     "data": {
      "text/html": [
       "<div>\n",
       "<style scoped>\n",
       "    .dataframe tbody tr th:only-of-type {\n",
       "        vertical-align: middle;\n",
       "    }\n",
       "\n",
       "    .dataframe tbody tr th {\n",
       "        vertical-align: top;\n",
       "    }\n",
       "\n",
       "    .dataframe thead th {\n",
       "        text-align: right;\n",
       "    }\n",
       "</style>\n",
       "<table border=\"1\" class=\"dataframe\">\n",
       "  <thead>\n",
       "    <tr style=\"text-align: right;\">\n",
       "      <th></th>\n",
       "      <th>customer_id</th>\n",
       "      <th>frequency</th>\n",
       "      <th>monetary</th>\n",
       "      <th>recency_cltv_weekly</th>\n",
       "      <th>T_weekly</th>\n",
       "      <th>monetary_cltv_avg</th>\n",
       "      <th>exp_sales_3_month</th>\n",
       "      <th>exp_sales_6_month</th>\n",
       "    </tr>\n",
       "  </thead>\n",
       "  <tbody>\n",
       "    <tr>\n",
       "      <th>7330</th>\n",
       "      <td>a4d534a2-5b1b-11eb-8dbd-000d3a38a36f</td>\n",
       "      <td>52.000</td>\n",
       "      <td>8643.680</td>\n",
       "      <td>62.714</td>\n",
       "      <td>67.429</td>\n",
       "      <td>166.225</td>\n",
       "      <td>4.645</td>\n",
       "      <td>9.289</td>\n",
       "    </tr>\n",
       "    <tr>\n",
       "      <th>15611</th>\n",
       "      <td>4a7e875e-e6ce-11ea-8f44-000d3a38a36f</td>\n",
       "      <td>29.000</td>\n",
       "      <td>4793.630</td>\n",
       "      <td>39.714</td>\n",
       "      <td>40.143</td>\n",
       "      <td>165.298</td>\n",
       "      <td>3.364</td>\n",
       "      <td>6.728</td>\n",
       "    </tr>\n",
       "    <tr>\n",
       "      <th>8328</th>\n",
       "      <td>1902bf80-0035-11eb-8341-000d3a38a36f</td>\n",
       "      <td>25.000</td>\n",
       "      <td>2435.990</td>\n",
       "      <td>28.857</td>\n",
       "      <td>33.429</td>\n",
       "      <td>97.440</td>\n",
       "      <td>3.132</td>\n",
       "      <td>6.265</td>\n",
       "    </tr>\n",
       "    <tr>\n",
       "      <th>19538</th>\n",
       "      <td>55d54d9e-8ac7-11ea-8ec0-000d3a38a36f</td>\n",
       "      <td>31.000</td>\n",
       "      <td>7084.430</td>\n",
       "      <td>52.571</td>\n",
       "      <td>58.857</td>\n",
       "      <td>228.530</td>\n",
       "      <td>3.076</td>\n",
       "      <td>6.152</td>\n",
       "    </tr>\n",
       "    <tr>\n",
       "      <th>14373</th>\n",
       "      <td>f00ad516-c4f4-11ea-98f7-000d3a38a36f</td>\n",
       "      <td>27.000</td>\n",
       "      <td>3816.580</td>\n",
       "      <td>38.000</td>\n",
       "      <td>46.571</td>\n",
       "      <td>141.355</td>\n",
       "      <td>2.993</td>\n",
       "      <td>5.986</td>\n",
       "    </tr>\n",
       "  </tbody>\n",
       "</table>\n",
       "</div>"
      ],
      "text/plain": [
       "                                customer_id  frequency  monetary  recency_cltv_weekly  T_weekly  monetary_cltv_avg  exp_sales_3_month  exp_sales_6_month\n",
       "7330   a4d534a2-5b1b-11eb-8dbd-000d3a38a36f     52.000  8643.680               62.714    67.429            166.225              4.645              9.289\n",
       "15611  4a7e875e-e6ce-11ea-8f44-000d3a38a36f     29.000  4793.630               39.714    40.143            165.298              3.364              6.728\n",
       "8328   1902bf80-0035-11eb-8341-000d3a38a36f     25.000  2435.990               28.857    33.429             97.440              3.132              6.265\n",
       "19538  55d54d9e-8ac7-11ea-8ec0-000d3a38a36f     31.000  7084.430               52.571    58.857            228.530              3.076              6.152\n",
       "14373  f00ad516-c4f4-11ea-98f7-000d3a38a36f     27.000  3816.580               38.000    46.571            141.355              2.993              5.986"
      ]
     },
     "execution_count": 27,
     "metadata": {},
     "output_type": "execute_result"
    }
   ],
   "source": [
    "cltv.sort_values(by = \"exp_sales_6_month\", ascending =False).head()"
   ]
  },
  {
   "cell_type": "markdown",
   "metadata": {},
   "source": [
    "Constructing Gamma-Gamma Model"
   ]
  },
  {
   "cell_type": "code",
   "execution_count": 28,
   "metadata": {},
   "outputs": [
    {
     "data": {
      "text/plain": [
       "<lifetimes.GammaGammaFitter: fitted with 19945 subjects, p: 4.15, q: 0.47, v: 4.08>"
      ]
     },
     "execution_count": 28,
     "metadata": {},
     "output_type": "execute_result"
    }
   ],
   "source": [
    "ggf = GammaGammaFitter(penalizer_coef=0.01)\n",
    "\n",
    "ggf.fit(cltv['frequency'], cltv['monetary_cltv_avg'])"
   ]
  },
  {
   "cell_type": "markdown",
   "metadata": {},
   "source": [
    "Calculation of Lifetime average monetary and monetary for the 6 months period"
   ]
  },
  {
   "cell_type": "code",
   "execution_count": 32,
   "metadata": {},
   "outputs": [
    {
     "data": {
      "text/html": [
       "<div>\n",
       "<style scoped>\n",
       "    .dataframe tbody tr th:only-of-type {\n",
       "        vertical-align: middle;\n",
       "    }\n",
       "\n",
       "    .dataframe tbody tr th {\n",
       "        vertical-align: top;\n",
       "    }\n",
       "\n",
       "    .dataframe thead th {\n",
       "        text-align: right;\n",
       "    }\n",
       "</style>\n",
       "<table border=\"1\" class=\"dataframe\">\n",
       "  <thead>\n",
       "    <tr style=\"text-align: right;\">\n",
       "      <th></th>\n",
       "      <th>customer_id</th>\n",
       "      <th>frequency</th>\n",
       "      <th>monetary</th>\n",
       "      <th>recency_cltv_weekly</th>\n",
       "      <th>T_weekly</th>\n",
       "      <th>monetary_cltv_avg</th>\n",
       "      <th>exp_sales_3_month</th>\n",
       "      <th>exp_sales_6_month</th>\n",
       "      <th>exp_average_value</th>\n",
       "      <th>cltv_for_6_months</th>\n",
       "    </tr>\n",
       "  </thead>\n",
       "  <tbody>\n",
       "    <tr>\n",
       "      <th>7330</th>\n",
       "      <td>a4d534a2-5b1b-11eb-8dbd-000d3a38a36f</td>\n",
       "      <td>52.000</td>\n",
       "      <td>8643.680</td>\n",
       "      <td>62.714</td>\n",
       "      <td>67.429</td>\n",
       "      <td>166.225</td>\n",
       "      <td>4.645</td>\n",
       "      <td>9.289</td>\n",
       "      <td>166.712</td>\n",
       "      <td>84454.403</td>\n",
       "    </tr>\n",
       "    <tr>\n",
       "      <th>4315</th>\n",
       "      <td>d5ef8058-a5c6-11e9-a2fc-000d3a38a36f</td>\n",
       "      <td>49.000</td>\n",
       "      <td>7930.490</td>\n",
       "      <td>133.143</td>\n",
       "      <td>147.286</td>\n",
       "      <td>161.847</td>\n",
       "      <td>2.826</td>\n",
       "      <td>5.651</td>\n",
       "      <td>162.353</td>\n",
       "      <td>47144.668</td>\n",
       "    </tr>\n",
       "    <tr>\n",
       "      <th>19538</th>\n",
       "      <td>55d54d9e-8ac7-11ea-8ec0-000d3a38a36f</td>\n",
       "      <td>31.000</td>\n",
       "      <td>7084.430</td>\n",
       "      <td>52.571</td>\n",
       "      <td>58.857</td>\n",
       "      <td>228.530</td>\n",
       "      <td>3.076</td>\n",
       "      <td>6.152</td>\n",
       "      <td>229.607</td>\n",
       "      <td>45916.136</td>\n",
       "    </tr>\n",
       "    <tr>\n",
       "      <th>14181</th>\n",
       "      <td>0e8c7b30-ac18-11e9-a2fc-000d3a38a36f</td>\n",
       "      <td>48.000</td>\n",
       "      <td>8181.190</td>\n",
       "      <td>141.714</td>\n",
       "      <td>159.857</td>\n",
       "      <td>170.441</td>\n",
       "      <td>2.624</td>\n",
       "      <td>5.249</td>\n",
       "      <td>170.981</td>\n",
       "      <td>45175.215</td>\n",
       "    </tr>\n",
       "    <tr>\n",
       "      <th>10489</th>\n",
       "      <td>7af5cd16-b100-11e9-9757-000d3a38a36f</td>\n",
       "      <td>43.000</td>\n",
       "      <td>6755.840</td>\n",
       "      <td>103.143</td>\n",
       "      <td>112.000</td>\n",
       "      <td>157.113</td>\n",
       "      <td>2.973</td>\n",
       "      <td>5.945</td>\n",
       "      <td>157.675</td>\n",
       "      <td>42267.154</td>\n",
       "    </tr>\n",
       "  </tbody>\n",
       "</table>\n",
       "</div>"
      ],
      "text/plain": [
       "                                customer_id  frequency  monetary  recency_cltv_weekly  T_weekly  monetary_cltv_avg  exp_sales_3_month  exp_sales_6_month  exp_average_value  cltv_for_6_months\n",
       "7330   a4d534a2-5b1b-11eb-8dbd-000d3a38a36f     52.000  8643.680               62.714    67.429            166.225              4.645              9.289            166.712          84454.403\n",
       "4315   d5ef8058-a5c6-11e9-a2fc-000d3a38a36f     49.000  7930.490              133.143   147.286            161.847              2.826              5.651            162.353          47144.668\n",
       "19538  55d54d9e-8ac7-11ea-8ec0-000d3a38a36f     31.000  7084.430               52.571    58.857            228.530              3.076              6.152            229.607          45916.136\n",
       "14181  0e8c7b30-ac18-11e9-a2fc-000d3a38a36f     48.000  8181.190              141.714   159.857            170.441              2.624              5.249            170.981          45175.215\n",
       "10489  7af5cd16-b100-11e9-9757-000d3a38a36f     43.000  6755.840              103.143   112.000            157.113              2.973              5.945            157.675          42267.154"
      ]
     },
     "execution_count": 32,
     "metadata": {},
     "output_type": "execute_result"
    }
   ],
   "source": [
    "cltv[\"exp_average_value\"]=ggf.conditional_expected_average_profit(cltv['frequency'], cltv['monetary_cltv_avg'])\n",
    "cltv[\"cltv_for_6_months\"] = ggf.customer_lifetime_value(bgf,\n",
    "                                   cltv['frequency'],\n",
    "                                   cltv['recency_cltv_weekly'],\n",
    "                                   cltv['T_weekly'],\n",
    "                                   cltv['monetary'],\n",
    "                                   time=6,  # 6 months\n",
    "                                   freq=\"W\",\n",
    "                                   discount_rate=0.01)\n",
    "cltv.sort_values(by = \"cltv_for_6_months\", ascending =False).head()"
   ]
  },
  {
   "cell_type": "markdown",
   "metadata": {},
   "source": [
    "Segmentation of the Customers according to predicted 6 months lifetime values.\n",
    "In fact, segmentation is a very important approach for companies because it can help a lot in developing a marketing strategy by bringing together customers with similar profiles.  "
   ]
  },
  {
   "cell_type": "code",
   "execution_count": null,
   "metadata": {},
   "outputs": [
    {
     "data": {
      "text/html": [
       "<div>\n",
       "<style scoped>\n",
       "    .dataframe tbody tr th:only-of-type {\n",
       "        vertical-align: middle;\n",
       "    }\n",
       "\n",
       "    .dataframe tbody tr th {\n",
       "        vertical-align: top;\n",
       "    }\n",
       "\n",
       "    .dataframe thead tr th {\n",
       "        text-align: left;\n",
       "    }\n",
       "\n",
       "    .dataframe thead tr:last-of-type th {\n",
       "        text-align: right;\n",
       "    }\n",
       "</style>\n",
       "<table border=\"1\" class=\"dataframe\">\n",
       "  <thead>\n",
       "    <tr>\n",
       "      <th></th>\n",
       "      <th>frequency</th>\n",
       "      <th>monetary</th>\n",
       "      <th>recency_cltv_weekly</th>\n",
       "      <th>T_weekly</th>\n",
       "      <th>monetary_cltv_avg</th>\n",
       "      <th>exp_sales_3_month</th>\n",
       "      <th>exp_sales_6_month</th>\n",
       "      <th>exp_average_value</th>\n",
       "      <th>cltv_for_6_months</th>\n",
       "    </tr>\n",
       "    <tr>\n",
       "      <th></th>\n",
       "      <th>mean</th>\n",
       "      <th>mean</th>\n",
       "      <th>mean</th>\n",
       "      <th>mean</th>\n",
       "      <th>mean</th>\n",
       "      <th>mean</th>\n",
       "      <th>mean</th>\n",
       "      <th>mean</th>\n",
       "      <th>mean</th>\n",
       "    </tr>\n",
       "    <tr>\n",
       "      <th>segment</th>\n",
       "      <th></th>\n",
       "      <th></th>\n",
       "      <th></th>\n",
       "      <th></th>\n",
       "      <th></th>\n",
       "      <th></th>\n",
       "      <th></th>\n",
       "      <th></th>\n",
       "      <th></th>\n",
       "    </tr>\n",
       "  </thead>\n",
       "  <tbody>\n",
       "    <tr>\n",
       "      <th>D</th>\n",
       "      <td>2.570</td>\n",
       "      <td>260.259</td>\n",
       "      <td>103.409</td>\n",
       "      <td>126.887</td>\n",
       "      <td>104.819</td>\n",
       "      <td>0.408</td>\n",
       "      <td>0.816</td>\n",
       "      <td>112.765</td>\n",
       "      <td>225.932</td>\n",
       "    </tr>\n",
       "    <tr>\n",
       "      <th>C</th>\n",
       "      <td>3.379</td>\n",
       "      <td>450.912</td>\n",
       "      <td>84.316</td>\n",
       "      <td>104.892</td>\n",
       "      <td>146.414</td>\n",
       "      <td>0.499</td>\n",
       "      <td>0.999</td>\n",
       "      <td>155.028</td>\n",
       "      <td>470.527</td>\n",
       "    </tr>\n",
       "    <tr>\n",
       "      <th>B</th>\n",
       "      <td>4.683</td>\n",
       "      <td>703.270</td>\n",
       "      <td>88.115</td>\n",
       "      <td>106.607</td>\n",
       "      <td>168.859</td>\n",
       "      <td>0.579</td>\n",
       "      <td>1.158</td>\n",
       "      <td>176.206</td>\n",
       "      <td>849.759</td>\n",
       "    </tr>\n",
       "    <tr>\n",
       "      <th>A</th>\n",
       "      <td>9.281</td>\n",
       "      <td>1552.165</td>\n",
       "      <td>105.212</td>\n",
       "      <td>120.071</td>\n",
       "      <td>188.314</td>\n",
       "      <td>0.818</td>\n",
       "      <td>1.636</td>\n",
       "      <td>192.964</td>\n",
       "      <td>2973.308</td>\n",
       "    </tr>\n",
       "  </tbody>\n",
       "</table>\n",
       "</div>"
      ],
      "text/plain": [
       "        frequency monetary recency_cltv_weekly T_weekly monetary_cltv_avg exp_sales_3_month exp_sales_6_month exp_average_value cltv_for_6_months\n",
       "             mean     mean                mean     mean              mean              mean              mean              mean              mean\n",
       "segment                                                                                                                                          \n",
       "D           2.570  260.259             103.409  126.887           104.819             0.408             0.816           112.765           225.932\n",
       "C           3.379  450.912              84.316  104.892           146.414             0.499             0.999           155.028           470.527\n",
       "B           4.683  703.270              88.115  106.607           168.859             0.579             1.158           176.206           849.759\n",
       "A           9.281 1552.165             105.212  120.071           188.314             0.818             1.636           192.964          2973.308"
      ]
     },
     "execution_count": 17,
     "metadata": {},
     "output_type": "execute_result"
    }
   ],
   "source": [
    "cltv[\"segment\"]=pd.qcut(cltv.cltv_for_6_months,4,labels=[\"D\",\"C\",\"B\",\"A\"])\n",
    "cltv.groupby(\"segment\").agg({\"mean\"})\n"
   ]
  }
 ],
 "metadata": {
  "kernelspec": {
   "display_name": "Python 3.10.6 ('crm_analytics')",
   "language": "python",
   "name": "python3"
  },
  "language_info": {
   "codemirror_mode": {
    "name": "ipython",
    "version": 3
   },
   "file_extension": ".py",
   "mimetype": "text/x-python",
   "name": "python",
   "nbconvert_exporter": "python",
   "pygments_lexer": "ipython3",
   "version": "3.10.6"
  },
  "orig_nbformat": 4,
  "vscode": {
   "interpreter": {
    "hash": "26a94cdbfe60d01eb234968671552c83fe4424f506d7197aee97c7d179c5a673"
   }
  }
 },
 "nbformat": 4,
 "nbformat_minor": 2
}
